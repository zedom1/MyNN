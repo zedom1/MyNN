{
 "cells": [
  {
   "cell_type": "code",
   "execution_count": 1,
   "metadata": {},
   "outputs": [],
   "source": [
    "from lstm import LSTM\n",
    "import copy, numpy as np\n",
    "from activation import Sigmoid, Tanh\n",
    "\n",
    "np.random.seed(0)"
   ]
  },
  {
   "cell_type": "code",
   "execution_count": 2,
   "metadata": {},
   "outputs": [],
   "source": [
    "def bin2int(d):\n",
    "    out = 0\n",
    "    for index,x in enumerate(d):\n",
    "        out += x*pow(2,index)\n",
    "    return out"
   ]
  },
  {
   "cell_type": "code",
   "execution_count": 3,
   "metadata": {},
   "outputs": [],
   "source": [
    "# training dataset generation\n",
    "int2binary = {}\n",
    "binary_dim = 8\n",
    "\n",
    "largest_number = pow(2,binary_dim)\n",
    "binary = np.unpackbits(np.array([range(largest_number)],dtype=np.uint8).T,axis=1)\n",
    "for i in range(largest_number):\n",
    "    int2binary[i] = np.flip(binary[i], axis=0)\n"
   ]
  },
  {
   "cell_type": "code",
   "execution_count": 21,
   "metadata": {},
   "outputs": [],
   "source": [
    "\n",
    "# input variables\n",
    "input_dim = 2\n",
    "hidden_dim = 16\n",
    "output_dim = 1\n",
    "learning_rate = 0.02\n",
    "\n",
    "arguments = {\n",
    "    \"input_dim\": input_dim, \n",
    "    \"hidden_dim\": hidden_dim, \n",
    "    \"output_dim\":output_dim\n",
    "}"
   ]
  },
  {
   "cell_type": "code",
   "execution_count": 22,
   "metadata": {},
   "outputs": [],
   "source": [
    "# training logic, for one epoch\n",
    "acc = 0\n",
    "total_loss = 0\n",
    "\n",
    "epochs = 50000\n",
    "verbose = 1000\n",
    "\n",
    "batch_size = 8"
   ]
  },
  {
   "cell_type": "code",
   "execution_count": 23,
   "metadata": {},
   "outputs": [],
   "source": [
    "list_acc = []\n",
    "list_loss = []"
   ]
  },
  {
   "cell_type": "code",
   "execution_count": 24,
   "metadata": {
    "scrolled": true
   },
   "outputs": [
    {
     "name": "stdout",
     "output_type": "stream",
     "text": [
      "Accuracy = 0.03875\n",
      "Total loss = 3.517528965744824\n",
      "Accuracy = 0.121125\n",
      "Total loss = 3.2372306687906196\n",
      "Accuracy = 0.1795\n",
      "Total loss = 2.8876161509903424\n",
      "Accuracy = 0.270625\n",
      "Total loss = 2.4723286680029535\n",
      "Accuracy = 0.31375\n",
      "Total loss = 2.2901129324204144\n",
      "Accuracy = 0.31025\n",
      "Total loss = 2.221652164845769\n",
      "Accuracy = 0.348125\n",
      "Total loss = 2.1511195482421015\n",
      "Accuracy = 0.413875\n",
      "Total loss = 2.0487521704639304\n",
      "Accuracy = 0.494125\n",
      "Total loss = 1.89053263009634\n",
      "Accuracy = 0.5585\n",
      "Total loss = 1.7720050756943373\n",
      "Accuracy = 0.63075\n",
      "Total loss = 1.6559346901969167\n",
      "Accuracy = 0.6775\n",
      "Total loss = 1.5231723406030968\n",
      "Accuracy = 0.721\n",
      "Total loss = 1.4195584371080907\n",
      "Accuracy = 0.76875\n",
      "Total loss = 1.3321606701412159\n",
      "Accuracy = 0.80475\n",
      "Total loss = 1.2306358120864962\n",
      "Accuracy = 0.832875\n",
      "Total loss = 1.1783006775614013\n",
      "Accuracy = 0.864125\n",
      "Total loss = 1.1248547809962255\n",
      "Accuracy = 0.87925\n",
      "Total loss = 1.0923446471177847\n",
      "Accuracy = 0.88775\n",
      "Total loss = 1.062813295052722\n",
      "Accuracy = 0.898125\n",
      "Total loss = 1.0317948298855364\n",
      "Accuracy = 0.901875\n",
      "Total loss = 1.0104135561389815\n",
      "Accuracy = 0.90925\n",
      "Total loss = 0.995676804490024\n",
      "Accuracy = 0.920375\n",
      "Total loss = 0.9620342360311585\n",
      "Accuracy = 0.919375\n",
      "Total loss = 0.955317939742525\n",
      "Accuracy = 0.91325\n",
      "Total loss = 0.9466057874205948\n",
      "Accuracy = 0.908625\n",
      "Total loss = 0.9281828552908403\n",
      "Accuracy = 0.906125\n",
      "Total loss = 0.9227010767497303\n"
     ]
    },
    {
     "ename": "KeyboardInterrupt",
     "evalue": "",
     "output_type": "error",
     "traceback": [
      "\u001b[1;31m---------------------------------------------------------------------------\u001b[0m",
      "\u001b[1;31mKeyboardInterrupt\u001b[0m                         Traceback (most recent call last)",
      "\u001b[1;32m<ipython-input-24-7c8ff92bb6d1>\u001b[0m in \u001b[0;36m<module>\u001b[1;34m()\u001b[0m\n\u001b[0;32m     27\u001b[0m     \u001b[1;31m#print(X)\u001b[0m\u001b[1;33m\u001b[0m\u001b[1;33m\u001b[0m\u001b[0m\n\u001b[0;32m     28\u001b[0m     \u001b[1;31m#print(y)\u001b[0m\u001b[1;33m\u001b[0m\u001b[1;33m\u001b[0m\u001b[0m\n\u001b[1;32m---> 29\u001b[1;33m     \u001b[0moutput\u001b[0m\u001b[1;33m,\u001b[0m \u001b[0mhidden\u001b[0m\u001b[1;33m,\u001b[0m \u001b[0mloss\u001b[0m \u001b[1;33m=\u001b[0m \u001b[0mlstm\u001b[0m\u001b[1;33m.\u001b[0m\u001b[0mtrain\u001b[0m\u001b[1;33m(\u001b[0m\u001b[0mX\u001b[0m\u001b[1;33m,\u001b[0m \u001b[0my\u001b[0m\u001b[1;33m,\u001b[0m \u001b[0mlearning_rate\u001b[0m \u001b[1;33m=\u001b[0m \u001b[0mlearning_rate\u001b[0m\u001b[1;33m)\u001b[0m\u001b[1;33m\u001b[0m\u001b[0m\n\u001b[0m\u001b[0;32m     30\u001b[0m \u001b[1;33m\u001b[0m\u001b[0m\n\u001b[0;32m     31\u001b[0m     \u001b[1;31m# decode output\u001b[0m\u001b[1;33m\u001b[0m\u001b[1;33m\u001b[0m\u001b[0m\n",
      "\u001b[1;32mD:\\Github\\MyNN\\lstm.py\u001b[0m in \u001b[0;36mtrain\u001b[1;34m(self, X, y, learning_rate)\u001b[0m\n\u001b[0;32m    131\u001b[0m                         \u001b[1;31m# calculate new accumulate_hidden_delta\u001b[0m\u001b[1;33m\u001b[0m\u001b[1;33m\u001b[0m\u001b[0m\n\u001b[0;32m    132\u001b[0m                         \u001b[1;31m# \\partial{L (t.. T)}{h_t} = \\partial{L (t+1.. T)}{h_t+1} * \\partial{h_t+1}{h_t} + \\partial{L_t}{h_t}\u001b[0m\u001b[1;33m\u001b[0m\u001b[1;33m\u001b[0m\u001b[0m\n\u001b[1;32m--> 133\u001b[1;33m                         \u001b[0mderivative_out_w_h\u001b[0m \u001b[1;33m=\u001b[0m \u001b[0mderivative_output_weight\u001b[0m\u001b[1;33m.\u001b[0m\u001b[0mdot\u001b[0m\u001b[1;33m(\u001b[0m\u001b[0mself\u001b[0m\u001b[1;33m.\u001b[0m\u001b[0mw_output\u001b[0m\u001b[1;33m[\u001b[0m\u001b[1;33m:\u001b[0m\u001b[1;33m,\u001b[0m \u001b[1;33m:\u001b[0m\u001b[0mself\u001b[0m\u001b[1;33m.\u001b[0m\u001b[0mhidden_dim\u001b[0m\u001b[1;33m]\u001b[0m\u001b[1;33m)\u001b[0m\u001b[1;33m\u001b[0m\u001b[0m\n\u001b[0m\u001b[0;32m    134\u001b[0m \u001b[1;33m\u001b[0m\u001b[0m\n\u001b[0;32m    135\u001b[0m                         \u001b[0mderivative_out_c_c\u001b[0m \u001b[1;33m=\u001b[0m \u001b[0mderivative_output_content\u001b[0m\u001b[1;33m\u001b[0m\u001b[0m\n",
      "\u001b[1;31mKeyboardInterrupt\u001b[0m: "
     ]
    }
   ],
   "source": [
    "lstm = LSTM(arguments)\n",
    "\n",
    "for i in range(1, epochs+1):\n",
    "    # generate a simple addition problem (a + b = c)\n",
    "    ans = []\n",
    "    for _ in range(batch_size):\n",
    "        a_int = np.random.randint(largest_number/2) # int version\n",
    "        a = int2binary[a_int] # binary encoding\n",
    "        a = np.reshape(a, (1, -1, 1))\n",
    "\n",
    "        b_int = np.random.randint(largest_number/2) # int version\n",
    "        b = int2binary[b_int] # binary encoding\n",
    "        b = np.reshape(b, (1, -1, 1))\n",
    "        # true answer\n",
    "        c_int = a_int + b_int\n",
    "        c = int2binary[c_int]\n",
    "        c = np.reshape(c, (1, -1, 1))\n",
    "        ans.append(c_int)\n",
    "        \n",
    "        if _ == 0:\n",
    "            X = np.concatenate((a,b), axis= 2)\n",
    "            y = c\n",
    "        else:\n",
    "            x = np.concatenate((a,b), axis= 2)\n",
    "            X = np.concatenate((X, x), axis= 0)\n",
    "            y = np.concatenate((y, c), axis= 0)\n",
    "    #print(X)\n",
    "    #print(y)\n",
    "    output, hidden, loss = lstm.train(X, y, learning_rate = learning_rate)\n",
    "\n",
    "    # decode output\n",
    "    bits = list()\n",
    "    #print(output)\n",
    "    output = output.reshape(-1, batch_size)\n",
    "    for j in output.T:\n",
    "        bits.append([int(np.round(bit)) for bit in j])\n",
    "    predicts = np.array([bin2int(np.squeeze(num)) for num in bits])\n",
    "    acc += np.sum(predicts == np.array(ans))/batch_size\n",
    "    total_loss += loss\n",
    "\n",
    "    if i%verbose == 0:\n",
    "        round_acc = acc/verbose\n",
    "        round_loss = total_loss/verbose\n",
    "        \n",
    "        print(\"Accuracy = {}\".format(round_acc))\n",
    "        print(\"Total loss = {}\".format(round_loss))\n",
    "        \n",
    "        #if len(list_loss)>0 and round_loss > list_loss[-1]:\n",
    "        #    break\n",
    "        \n",
    "        list_acc.append(round_acc)\n",
    "        list_loss.append(round_loss)\n",
    "        \n",
    "        total_loss = 0\n",
    "        acc = 0\n",
    "    "
   ]
  },
  {
   "cell_type": "code",
   "execution_count": 25,
   "metadata": {},
   "outputs": [
    {
     "data": {
      "text/plain": [
       "Text(0,0.5,'Acc')"
      ]
     },
     "execution_count": 25,
     "metadata": {},
     "output_type": "execute_result"
    },
    {
     "data": {
      "image/png": "[encoded data removed]",
      "text/plain": [
       "<Figure size 1296x432 with 1 Axes>"
      ]
     },
     "metadata": {},
     "output_type": "display_data"
    }
   ],
   "source": [
    "import matplotlib.pyplot as plt\n",
    "\n",
    "plt.figure(figsize=(18, 6))\n",
    "plt.plot(list_acc, \"-\", color=\"r\")\n",
    "plt.xlabel(\"Epoch\", fontsize=20)\n",
    "plt.ylabel(\"Acc\", fontsize=20)"
   ]
  },
  {
   "cell_type": "code",
   "execution_count": 26,
   "metadata": {},
   "outputs": [
    {
     "data": {
      "text/plain": [
       "Text(0,0.5,'Loss')"
      ]
     },
     "execution_count": 26,
     "metadata": {},
     "output_type": "execute_result"
    },
    {
     "data": {
      "image/png": "[encoded data removed]",
      "text/plain": [
       "<Figure size 1296x432 with 1 Axes>"
      ]
     },
     "metadata": {},
     "output_type": "display_data"
    }
   ],
   "source": [
    "plt.figure(figsize=(18, 6))\n",
    "plt.plot(list_loss, \"-\", color=\"r\")\n",
    "plt.xlabel(\"Epoch\", fontsize=20)\n",
    "plt.ylabel(\"Loss\", fontsize=20)"
   ]
  },
  {
   "cell_type": "code",
   "execution_count": null,
   "metadata": {},
   "outputs": [],
   "source": []
  }
 ],
 "metadata": {
  "kernelspec": {
   "display_name": "Python 3",
   "language": "python",
   "name": "python3"
  },
  "language_info": {
   "codemirror_mode": {
    "name": "ipython",
    "version": 3
   },
   "file_extension": ".py",
   "mimetype": "text/x-python",
   "name": "python",
   "nbconvert_exporter": "python",
   "pygments_lexer": "ipython3",
   "version": "3.6.5"
  }
 },
 "nbformat": 4,
 "nbformat_minor": 2
}
