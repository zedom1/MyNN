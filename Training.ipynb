{
 "cells": [
  {
   "cell_type": "code",
   "execution_count": 1,
   "metadata": {},
   "outputs": [],
   "source": [
    "from rnn import RNN\n",
    "import copy, numpy as np\n",
    "from activation import Sigmoid\n",
    "\n",
    "np.random.seed(0)"
   ]
  },
  {
   "cell_type": "code",
   "execution_count": 2,
   "metadata": {},
   "outputs": [],
   "source": [
    "def bin2int(d):\n",
    "    out = 0\n",
    "    for index,x in enumerate(d):\n",
    "        out += x*pow(2,index)\n",
    "    return out"
   ]
  },
  {
   "cell_type": "code",
   "execution_count": 3,
   "metadata": {},
   "outputs": [],
   "source": [
    "# training dataset generation\n",
    "int2binary = {}\n",
    "binary_dim = 8\n",
    "\n",
    "largest_number = pow(2,binary_dim)\n",
    "binary = np.unpackbits(np.array([range(largest_number)],dtype=np.uint8).T,axis=1)\n",
    "for i in range(largest_number):\n",
    "    int2binary[i] = np.flip(binary[i], axis=0)\n"
   ]
  },
  {
   "cell_type": "code",
   "execution_count": 4,
   "metadata": {},
   "outputs": [],
   "source": [
    "\n",
    "# input variables\n",
    "alpha = 0.1\n",
    "input_dim = 2\n",
    "hidden_dim = 16\n",
    "output_dim = 1\n",
    "final_activation = Sigmoid\n",
    "\n",
    "arguments = {\n",
    "    \"input_dim\": input_dim, \n",
    "    \"hidden_dim\": hidden_dim, \n",
    "    \"output_dim\":output_dim,\n",
    "    \"activation\": Sigmoid\n",
    "}"
   ]
  },
  {
   "cell_type": "code",
   "execution_count": 5,
   "metadata": {},
   "outputs": [],
   "source": [
    "# training logic, for one epoch\n",
    "acc = 0\n",
    "total_loss = 0\n",
    "\n",
    "epochs = 30000\n",
    "verbose = 1000"
   ]
  },
  {
   "cell_type": "code",
   "execution_count": 6,
   "metadata": {},
   "outputs": [],
   "source": [
    "list_acc = []\n",
    "list_loss = []"
   ]
  },
  {
   "cell_type": "code",
   "execution_count": 7,
   "metadata": {},
   "outputs": [
    {
     "name": "stdout",
     "output_type": "stream",
     "text": [
      "Pred: 1 1 1 1 1 1 1 1\n",
      "True: 0 0 1 1 1 1 0 1\n",
      "106 + 82 = 255\n",
      "------------\n",
      "Accuracy = 0.003\n",
      "Total loss = 3.9887964818486745\n",
      "Pred: 1 1 1 1 1 0 1 1\n",
      "True: 0 0 0 0 0 1 0 1\n",
      "93 + 67 = 223\n",
      "------------\n",
      "Accuracy = 0.004\n",
      "Total loss = 3.9759763669589336\n",
      "Pred: 0 0 1 1 1 1 1 0\n",
      "True: 0 1 1 1 1 1 1 0\n",
      "116 + 10 = 124\n",
      "------------\n",
      "Accuracy = 0.024\n",
      "Total loss = 3.8991455558940245\n",
      "Pred: 1 0 0 0 1 1 1 0\n",
      "True: 1 0 0 0 0 0 0 1\n",
      "25 + 104 = 113\n",
      "------------\n",
      "Accuracy = 0.092\n",
      "Total loss = 3.692924415244546\n",
      "Pred: 0 0 0 0 1 1 1 1\n",
      "True: 0 0 1 1 0 0 0 1\n",
      "46 + 94 = 240\n",
      "------------\n",
      "Accuracy = 0.186\n",
      "Total loss = 3.3698537579323853\n",
      "Pred: 0 1 1 1 1 1 1 0\n",
      "True: 0 0 0 1 1 1 1 0\n",
      "55 + 65 = 126\n",
      "------------\n",
      "Accuracy = 0.231\n",
      "Total loss = 2.882013573095524\n",
      "Pred: 1 1 0 0 1 1 0 0\n",
      "True: 1 1 0 0 1 1 0 0\n",
      "28 + 23 = 51\n",
      "------------\n",
      "Accuracy = 0.462\n",
      "Total loss = 2.2759079580991757\n",
      "Pred: 1 1 0 1 0 1 1 0\n",
      "True: 1 1 0 1 0 1 1 0\n",
      "39 + 68 = 107\n",
      "------------\n",
      "Accuracy = 0.834\n",
      "Total loss = 1.568114384617333\n",
      "Pred: 1 1 0 1 0 0 1 0\n",
      "True: 1 1 0 1 0 0 1 0\n",
      "3 + 72 = 75\n",
      "------------\n",
      "Accuracy = 0.922\n",
      "Total loss = 1.1412176390640636\n",
      "Pred: 0 1 1 1 0 1 1 0\n",
      "True: 0 1 1 1 0 1 1 0\n",
      "44 + 66 = 110\n",
      "------------\n",
      "Accuracy = 0.988\n",
      "Total loss = 0.7664884817117882\n",
      "Pred: 0 1 1 0 0 1 1 0\n",
      "True: 0 1 1 0 0 1 1 0\n",
      "30 + 72 = 102\n",
      "------------\n",
      "Accuracy = 0.994\n",
      "Total loss = 0.5766991797516229\n",
      "Pred: 0 1 0 0 1 1 0 0\n",
      "True: 0 1 0 0 1 1 0 0\n",
      "33 + 17 = 50\n",
      "------------\n",
      "Accuracy = 0.998\n",
      "Total loss = 0.4697092068037936\n",
      "Pred: 0 1 1 0 0 0 0 1\n",
      "True: 0 1 1 0 0 0 0 1\n",
      "28 + 106 = 134\n",
      "------------\n",
      "Accuracy = 1.0\n",
      "Total loss = 0.3897348250346676\n",
      "Pred: 1 1 0 0 1 0 0 1\n",
      "True: 1 1 0 0 1 0 0 1\n",
      "29 + 118 = 147\n",
      "------------\n",
      "Accuracy = 1.0\n",
      "Total loss = 0.33905583375984844\n",
      "Pred: 1 0 1 1 1 0 0 1\n",
      "True: 1 0 1 1 1 0 0 1\n",
      "101 + 56 = 157\n",
      "------------\n",
      "Accuracy = 1.0\n",
      "Total loss = 0.3050956149373218\n",
      "Pred: 0 1 1 1 0 1 1 0\n",
      "True: 0 1 1 1 0 1 1 0\n",
      "11 + 99 = 110\n",
      "------------\n",
      "Accuracy = 1.0\n",
      "Total loss = 0.27398789405112445\n",
      "Pred: 0 1 1 0 1 1 0 0\n",
      "True: 0 1 1 0 1 1 0 0\n",
      "50 + 4 = 54\n",
      "------------\n",
      "Accuracy = 1.0\n",
      "Total loss = 0.2555914441005564\n",
      "Pred: 0 1 1 1 1 1 1 0\n",
      "True: 0 1 1 1 1 1 1 0\n",
      "74 + 52 = 126\n",
      "------------\n",
      "Accuracy = 1.0\n",
      "Total loss = 0.24422660220556255\n",
      "Pred: 1 0 0 0 1 0 1 0\n",
      "True: 1 0 0 0 1 0 1 0\n",
      "14 + 67 = 81\n",
      "------------\n",
      "Accuracy = 1.0\n",
      "Total loss = 0.22864307871722953\n",
      "Pred: 0 1 0 0 1 1 1 0\n",
      "True: 0 1 0 0 1 1 1 0\n",
      "69 + 45 = 114\n",
      "------------\n",
      "Accuracy = 1.0\n",
      "Total loss = 0.21551240161281235\n",
      "Pred: 1 1 1 0 1 0 1 1\n",
      "True: 1 1 1 0 1 0 1 1\n",
      "125 + 90 = 215\n",
      "------------\n",
      "Accuracy = 1.0\n",
      "Total loss = 0.21590503056415106\n"
     ]
    }
   ],
   "source": [
    "rnn = RNN(arguments)\n",
    "\n",
    "for i in range(1, epochs+1):\n",
    "# generate a simple addition problem (a + b = c)\n",
    "    a_int = np.random.randint(largest_number/2) # int version\n",
    "    a = int2binary[a_int] # binary encoding\n",
    "    a = np.reshape(a, (1, -1, 1))\n",
    "\n",
    "    b_int = np.random.randint(largest_number/2) # int version\n",
    "    b = int2binary[b_int] # binary encoding\n",
    "    b = np.reshape(b, (1, -1, 1))\n",
    "    # true answer\n",
    "    c_int = a_int + b_int\n",
    "    c = int2binary[c_int]\n",
    "    c = np.reshape(c, (1, -1, 1))\n",
    "    \n",
    "    X = np.concatenate((a,b), axis= 2)\n",
    "    X = np.concatenate((X, X), axis= 0)\n",
    "    \n",
    "    y = c\n",
    "    y = np.concatenate((y, y), axis= 0)\n",
    "\n",
    "    output, hidden, loss = rnn.train(X, y)\n",
    "\n",
    "    # decode output\n",
    "    bits = list()\n",
    "    for j in output:\n",
    "        bits.append(int(np.round(j[0])))\n",
    "    predict_num = bin2int(np.squeeze(bits))\n",
    "    acc += int(predict_num == c_int)\n",
    "    total_loss += loss\n",
    "\n",
    "    if i%verbose == 0:\n",
    "        round_acc = acc/verbose\n",
    "        round_loss = total_loss/verbose\n",
    "        \n",
    "        print(\"Pred: \" + ' '.join([str(i) for i in bits]))\n",
    "        print(\"True: \" + ' '.join([str(i[0]) for i in c[0]]))\n",
    "        print(str(a_int) + \" + \" + str(b_int) + \" = \" + str(predict_num))\n",
    "        print(\"------------\")\n",
    "        print(\"Accuracy = {}\".format(round_acc))\n",
    "        print(\"Total loss = {}\".format(round_loss))\n",
    "        \n",
    "        if len(list_loss)>0 and round_loss > list_loss[-1]:\n",
    "            break\n",
    "        \n",
    "        list_acc.append(round_acc)\n",
    "        list_loss.append(round_loss)\n",
    "        \n",
    "        total_loss = 0\n",
    "        acc = 0"
   ]
  },
  {
   "cell_type": "code",
   "execution_count": 10,
   "metadata": {},
   "outputs": [
    {
     "data": {
      "text/plain": [
       "Text(0,0.5,'Acc')"
      ]
     },
     "execution_count": 10,
     "metadata": {},
     "output_type": "execute_result"
    },
    {
     "data": {
      "image/png": "[encoded data removed]",
      "text/plain": [
       "<Figure size 1296x432 with 1 Axes>"
      ]
     },
     "metadata": {},
     "output_type": "display_data"
    }
   ],
   "source": [
    "import matplotlib.pyplot as plt\n",
    "\n",
    "plt.figure(figsize=(18, 6))\n",
    "plt.plot(list_acc, \"-\", color=\"r\")\n",
    "plt.xlabel(\"Epoch\", fontsize=20)\n",
    "plt.ylabel(\"Acc\", fontsize=20)"
   ]
  },
  {
   "cell_type": "code",
   "execution_count": 9,
   "metadata": {},
   "outputs": [
    {
     "data": {
      "text/plain": [
       "Text(0,0.5,'Loss')"
      ]
     },
     "execution_count": 9,
     "metadata": {},
     "output_type": "execute_result"
    },
    {
     "data": {
      "image/png": "[encoded data removed]",
      "text/plain": [
       "<Figure size 1296x432 with 1 Axes>"
      ]
     },
     "metadata": {},
     "output_type": "display_data"
    }
   ],
   "source": [
    "plt.figure(figsize=(18, 6))\n",
    "plt.plot(list_loss, \"-\", color=\"r\")\n",
    "plt.xlabel(\"Epoch\", fontsize=20)\n",
    "plt.ylabel(\"Loss\", fontsize=20)"
   ]
  }
 ],
 "metadata": {
  "kernelspec": {
   "display_name": "Python 3",
   "language": "python",
   "name": "python3"
  },
  "language_info": {
   "codemirror_mode": {
    "name": "ipython",
    "version": 3
   },
   "file_extension": ".py",
   "mimetype": "text/x-python",
   "name": "python",
   "nbconvert_exporter": "python",
   "pygments_lexer": "ipython3",
   "version": "3.6.5"
  }
 },
 "nbformat": 4,
 "nbformat_minor": 2
}
